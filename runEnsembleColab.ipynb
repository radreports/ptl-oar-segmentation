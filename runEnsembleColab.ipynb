{
 "cells": [
  {
   "cell_type": "code",
   "execution_count": 35,
   "id": "8c7ef4fe-adae-4352-b65f-91790235efec",
   "metadata": {},
   "outputs": [
    {
     "name": "stdout",
     "output_type": "stream",
     "text": [
      "Requirement already satisfied: lightning in /usr/local/anaconda3/lib/python3.9/site-packages (1.9.0)\n",
      "Requirement already satisfied: pytorch-lightning in /usr/local/anaconda3/lib/python3.9/site-packages (1.9.0)\n",
      "Requirement already satisfied: dateutils<2.0 in /usr/local/anaconda3/lib/python3.9/site-packages (from lightning) (0.6.12)\n",
      "Requirement already satisfied: click<10.0 in /usr/local/anaconda3/lib/python3.9/site-packages (from lightning) (8.0.4)\n",
      "Requirement already satisfied: rich<15.0 in /usr/local/anaconda3/lib/python3.9/site-packages (from lightning) (13.2.0)\n",
      "Requirement already satisfied: websocket-client<3.0 in /usr/local/anaconda3/lib/python3.9/site-packages (from lightning) (0.58.0)\n",
      "Requirement already satisfied: fsspec[http]<2024.0,>2021.06.0 in /usr/local/anaconda3/lib/python3.9/site-packages (from lightning) (2022.11.0)\n",
      "Requirement already satisfied: lightning-cloud<2.0,>=0.5.12 in /usr/local/anaconda3/lib/python3.9/site-packages (from lightning) (0.5.19)\n",
      "Requirement already satisfied: PyYAML<8.0,>=5.4 in /usr/local/anaconda3/lib/python3.9/site-packages (from lightning) (6.0)\n",
      "Requirement already satisfied: croniter<1.4.0,>=1.3.0 in /usr/local/anaconda3/lib/python3.9/site-packages (from lightning) (1.3.8)\n",
      "Requirement already satisfied: packaging<23.0,>=17.1 in /usr/local/anaconda3/lib/python3.9/site-packages (from lightning) (21.3)\n",
      "Requirement already satisfied: torch<3.0,>=1.10.0 in /usr/local/anaconda3/lib/python3.9/site-packages (from lightning) (1.10.0)\n",
      "Requirement already satisfied: fastapi<0.89.0 in /usr/local/anaconda3/lib/python3.9/site-packages (from lightning) (0.88.0)\n",
      "Requirement already satisfied: requests<4.0 in /usr/local/anaconda3/lib/python3.9/site-packages (from lightning) (2.28.1)\n",
      "Requirement already satisfied: typing-extensions<6.0,>=4.0.0 in /usr/local/anaconda3/lib/python3.9/site-packages (from lightning) (4.4.0)\n",
      "Requirement already satisfied: urllib3<3.0 in /usr/local/anaconda3/lib/python3.9/site-packages (from lightning) (1.26.13)\n",
      "Requirement already satisfied: psutil<7.0 in /usr/local/anaconda3/lib/python3.9/site-packages (from lightning) (5.9.0)\n",
      "Requirement already satisfied: numpy<3.0,>=1.17.2 in /usr/local/anaconda3/lib/python3.9/site-packages (from lightning) (1.22.4)\n",
      "Requirement already satisfied: uvicorn<2.0 in /usr/local/anaconda3/lib/python3.9/site-packages (from lightning) (0.20.0)\n",
      "Requirement already satisfied: websockets<12.0 in /usr/local/anaconda3/lib/python3.9/site-packages (from lightning) (10.4)\n",
      "Requirement already satisfied: arrow<3.0,>=1.2.0 in /usr/local/anaconda3/lib/python3.9/site-packages (from lightning) (1.2.3)\n",
      "Requirement already satisfied: beautifulsoup4<6.0,>=4.8.0 in /usr/local/anaconda3/lib/python3.9/site-packages (from lightning) (4.11.1)\n",
      "Requirement already satisfied: lightning-utilities<2.0,>=0.4.2 in /usr/local/anaconda3/lib/python3.9/site-packages (from lightning) (0.6.0.post0)\n",
      "Requirement already satisfied: pydantic<3.0 in /usr/local/anaconda3/lib/python3.9/site-packages (from lightning) (1.10.2)\n",
      "Requirement already satisfied: starsessions<2.0,>=1.2.1 in /usr/local/anaconda3/lib/python3.9/site-packages (from lightning) (1.3.0)\n",
      "Requirement already satisfied: Jinja2<5.0 in /usr/local/anaconda3/lib/python3.9/site-packages (from lightning) (2.11.3)\n",
      "Requirement already satisfied: deepdiff<8.0,>=5.7.0 in /usr/local/anaconda3/lib/python3.9/site-packages (from lightning) (6.2.3)\n",
      "Requirement already satisfied: torchmetrics<2.0,>=0.7.0 in /usr/local/anaconda3/lib/python3.9/site-packages (from lightning) (0.11.0)\n",
      "Requirement already satisfied: tqdm<6.0,>=4.57.0 in /usr/local/anaconda3/lib/python3.9/site-packages (from lightning) (4.64.1)\n",
      "Requirement already satisfied: traitlets<7.0,>=5.3.0 in /usr/local/anaconda3/lib/python3.9/site-packages (from lightning) (5.8.1)\n",
      "Requirement already satisfied: inquirer<5.0,>=2.10.0 in /usr/local/anaconda3/lib/python3.9/site-packages (from lightning) (3.1.2)\n",
      "Requirement already satisfied: starlette<2.0 in /usr/local/anaconda3/lib/python3.9/site-packages (from lightning) (0.22.0)\n",
      "Requirement already satisfied: python-dateutil>=2.7.0 in /usr/local/anaconda3/lib/python3.9/site-packages (from arrow<3.0,>=1.2.0->lightning) (2.8.2)\n",
      "Requirement already satisfied: soupsieve>1.2 in /usr/local/anaconda3/lib/python3.9/site-packages (from beautifulsoup4<6.0,>=4.8.0->lightning) (2.3.2.post1)\n",
      "Requirement already satisfied: pytz in /usr/local/anaconda3/lib/python3.9/site-packages (from dateutils<2.0->lightning) (2022.1)\n",
      "Requirement already satisfied: ordered-set<4.2.0,>=4.0.2 in /usr/local/anaconda3/lib/python3.9/site-packages (from deepdiff<8.0,>=5.7.0->lightning) (4.1.0)\n",
      "Requirement already satisfied: orjson in /usr/local/anaconda3/lib/python3.9/site-packages (from deepdiff<8.0,>=5.7.0->lightning) (3.8.5)\n",
      "Requirement already satisfied: anyio<5,>=3.4.0 in /usr/local/anaconda3/lib/python3.9/site-packages (from starlette<2.0->lightning) (3.5.0)\n",
      "Requirement already satisfied: aiohttp!=4.0.0a0,!=4.0.0a1 in /usr/local/anaconda3/lib/python3.9/site-packages (from fsspec[http]<2024.0,>2021.06.0->lightning) (3.8.3)\n",
      "Requirement already satisfied: python-editor>=1.0.4 in /usr/local/anaconda3/lib/python3.9/site-packages (from inquirer<5.0,>=2.10.0->lightning) (1.0.4)\n",
      "Requirement already satisfied: blessed>=1.19.0 in /usr/local/anaconda3/lib/python3.9/site-packages (from inquirer<5.0,>=2.10.0->lightning) (1.19.1)\n",
      "Requirement already satisfied: readchar>=3.0.6 in /usr/local/anaconda3/lib/python3.9/site-packages (from inquirer<5.0,>=2.10.0->lightning) (4.0.3)\n",
      "Requirement already satisfied: MarkupSafe>=0.23 in /usr/local/anaconda3/lib/python3.9/site-packages (from Jinja2<5.0->lightning) (2.0.1)\n",
      "Requirement already satisfied: six in /usr/local/anaconda3/lib/python3.9/site-packages (from lightning-cloud<2.0,>=0.5.12->lightning) (1.16.0)\n",
      "Requirement already satisfied: pyjwt in /usr/local/anaconda3/lib/python3.9/site-packages (from lightning-cloud<2.0,>=0.5.12->lightning) (2.4.0)\n",
      "Requirement already satisfied: pyparsing!=3.0.5,>=2.0.2 in /usr/local/anaconda3/lib/python3.9/site-packages (from packaging<23.0,>=17.1->lightning) (3.0.9)\n",
      "Requirement already satisfied: charset-normalizer<3,>=2 in /usr/local/anaconda3/lib/python3.9/site-packages (from requests<4.0->lightning) (2.0.4)\n",
      "Requirement already satisfied: certifi>=2017.4.17 in /usr/local/anaconda3/lib/python3.9/site-packages (from requests<4.0->lightning) (2022.9.24)\n",
      "Requirement already satisfied: idna<4,>=2.5 in /usr/local/anaconda3/lib/python3.9/site-packages (from requests<4.0->lightning) (3.4)\n",
      "Requirement already satisfied: markdown-it-py<3.0.0,>=2.1.0 in /usr/local/anaconda3/lib/python3.9/site-packages (from rich<15.0->lightning) (2.1.0)\n",
      "Requirement already satisfied: pygments<3.0.0,>=2.6.0 in /usr/local/anaconda3/lib/python3.9/site-packages (from rich<15.0->lightning) (2.11.2)\n",
      "Requirement already satisfied: itsdangerous<3.0.0,>=2.0.1 in /usr/local/anaconda3/lib/python3.9/site-packages (from starsessions<2.0,>=1.2.1->lightning) (2.0.1)\n",
      "Requirement already satisfied: h11>=0.8 in /usr/local/anaconda3/lib/python3.9/site-packages (from uvicorn<2.0->lightning) (0.14.0)\n",
      "Requirement already satisfied: yarl<2.0,>=1.0 in /usr/local/anaconda3/lib/python3.9/site-packages (from aiohttp!=4.0.0a0,!=4.0.0a1->fsspec[http]<2024.0,>2021.06.0->lightning) (1.8.1)\n",
      "Requirement already satisfied: aiosignal>=1.1.2 in /usr/local/anaconda3/lib/python3.9/site-packages (from aiohttp!=4.0.0a0,!=4.0.0a1->fsspec[http]<2024.0,>2021.06.0->lightning) (1.2.0)\n",
      "Requirement already satisfied: frozenlist>=1.1.1 in /usr/local/anaconda3/lib/python3.9/site-packages (from aiohttp!=4.0.0a0,!=4.0.0a1->fsspec[http]<2024.0,>2021.06.0->lightning) (1.3.3)\n",
      "Requirement already satisfied: async-timeout<5.0,>=4.0.0a3 in /usr/local/anaconda3/lib/python3.9/site-packages (from aiohttp!=4.0.0a0,!=4.0.0a1->fsspec[http]<2024.0,>2021.06.0->lightning) (4.0.2)\n",
      "Requirement already satisfied: attrs>=17.3.0 in /usr/local/anaconda3/lib/python3.9/site-packages (from aiohttp!=4.0.0a0,!=4.0.0a1->fsspec[http]<2024.0,>2021.06.0->lightning) (22.1.0)\n",
      "Requirement already satisfied: multidict<7.0,>=4.5 in /usr/local/anaconda3/lib/python3.9/site-packages (from aiohttp!=4.0.0a0,!=4.0.0a1->fsspec[http]<2024.0,>2021.06.0->lightning) (6.0.2)\n",
      "Requirement already satisfied: sniffio>=1.1 in /usr/local/anaconda3/lib/python3.9/site-packages (from anyio<5,>=3.4.0->starlette<2.0->lightning) (1.2.0)\n",
      "Requirement already satisfied: wcwidth>=0.1.4 in /usr/local/anaconda3/lib/python3.9/site-packages (from blessed>=1.19.0->inquirer<5.0,>=2.10.0->lightning) (0.2.5)\n",
      "Requirement already satisfied: mdurl~=0.1 in /usr/local/anaconda3/lib/python3.9/site-packages (from markdown-it-py<3.0.0,>=2.1.0->rich<15.0->lightning) (0.1.2)\n",
      "Requirement already satisfied: setuptools>=41.0 in /usr/local/anaconda3/lib/python3.9/site-packages (from readchar>=3.0.6->inquirer<5.0,>=2.10.0->lightning) (65.5.0)\n",
      "Requirement already satisfied: ujson!=4.0.2,!=4.1.0,!=4.2.0,!=4.3.0,!=5.0.0,!=5.1.0,>=4.0.1 in /usr/local/anaconda3/lib/python3.9/site-packages (from fastapi<0.89.0->lightning) (5.4.0)\n",
      "Requirement already satisfied: python-multipart>=0.0.5 in /usr/local/anaconda3/lib/python3.9/site-packages (from fastapi<0.89.0->lightning) (0.0.5)\n",
      "Requirement already satisfied: httpx>=0.23.0 in /usr/local/anaconda3/lib/python3.9/site-packages (from fastapi<0.89.0->lightning) (0.23.1)\n",
      "Requirement already satisfied: email-validator>=1.1.1 in /usr/local/anaconda3/lib/python3.9/site-packages (from fastapi<0.89.0->lightning) (1.3.1)\n",
      "Requirement already satisfied: dnspython>=1.15.0 in /usr/local/anaconda3/lib/python3.9/site-packages (from email-validator>=1.1.1->fastapi<0.89.0->lightning) (2.2.0)\n",
      "Requirement already satisfied: rfc3986[idna2008]<2,>=1.3 in /usr/local/anaconda3/lib/python3.9/site-packages (from httpx>=0.23.0->fastapi<0.89.0->lightning) (1.5.0)\n",
      "Requirement already satisfied: httpcore<0.17.0,>=0.15.0 in /usr/local/anaconda3/lib/python3.9/site-packages (from httpx>=0.23.0->fastapi<0.89.0->lightning) (0.16.2)\n",
      "Requirement already satisfied: httptools>=0.5.0 in /usr/local/anaconda3/lib/python3.9/site-packages (from uvicorn<2.0->lightning) (0.5.0)\n",
      "Requirement already satisfied: watchfiles>=0.13 in /usr/local/anaconda3/lib/python3.9/site-packages (from uvicorn<2.0->lightning) (0.18.1)\n",
      "Requirement already satisfied: python-dotenv>=0.13 in /usr/local/anaconda3/lib/python3.9/site-packages (from uvicorn<2.0->lightning) (0.20.0)\n",
      "Requirement already satisfied: uvloop!=0.15.0,!=0.15.1,>=0.14.0 in /usr/local/anaconda3/lib/python3.9/site-packages (from uvicorn<2.0->lightning) (0.17.0)\n"
     ]
    }
   ],
   "source": [
    "!pip install lightning pytorch-lightning\n",
    "from utils import *"
   ]
  },
  {
   "cell_type": "code",
   "execution_count": 36,
   "id": "8d02e564-3dcd-426d-81d1-e21d97bac66d",
   "metadata": {},
   "outputs": [],
   "source": [
    "import os, torch, warnings\n",
    "import numpy as np\n",
    "from utils import SegmentationModule, config\n",
    "from lightning import Trainer # callbacks#, seed_everything\n",
    "\n",
    "SEED = 2334\n",
    "torch.manual_seed(SEED)\n",
    "np.random.seed(SEED)\n",
    "# print('__CUDNN VERSION:', torch.backends.cudnn.version())\n",
    "# print('__Number CUDA Devices:', torch.cuda.device_count())\n",
    "def main(weights_path):\n",
    "\n",
    "    \"\"\"\n",
    "    Main training routine specific for this project.\n",
    "    Participents can define modify the base SegmentationModule that will be\n",
    "    given in the offical repo for the challenge (utils - modules.py).\n",
    "    Checkpointing is built into boilerplate, weights must be loaded into your\n",
    "    custom SegmentationModule object. Please provide your code in the format\n",
    "    given in the repo. You are cable to add/change any part of the code given\n",
    "    in the repo including losses, models and optimizers.\n",
    "    Please zip your utils folder and send it along with your model weights saved\n",
    "    duirng checkpointing.\n",
    "\n",
    "    For your reference following script will be used for inference. This will be\n",
    "    using test_step function in modules.py. NOTE: Adaptive sliding window(s) will\n",
    "    be used during evaluation, something similar to swi() in utils.py.\n",
    "\n",
    "    Note: empty boilerplate will be delivered before challenge begins\n",
    "    on the offical project repo.\n",
    "\n",
    "    :param hparams: weights_path\n",
    "    \"\"\"\n",
    "    assert weights_path is not None\n",
    "    warnings.warn('Using presaved weights...')\n",
    "    warnings.warn(f'Loading save model from {weights_path}.')\n",
    "    model = SegmentationModule.load_from_checkpoint(checkpoint_path=weights_path)\n",
    "    #, strict=False) #,\n",
    "    trainer = Trainer(gpus=1, strategy='ddp')\n",
    "    trainer.test(model)"
   ]
  },
  {
   "cell_type": "code",
   "execution_count": 21,
   "id": "6bfae6b7-8346-4736-b845-5972f5d2d7ff",
   "metadata": {},
   "outputs": [],
   "source": [
    "root_dir = os.path.dirname(os.path.realpath(\"ptl-oar-segmentation/test.zip\"))"
   ]
  },
  {
   "cell_type": "code",
   "execution_count": 22,
   "id": "1ede8579-c8a5-4536-9872-3ed62c885322",
   "metadata": {},
   "outputs": [
    {
     "data": {
      "text/plain": [
       "'/Users/joemarsilla/ptl-oar-segmentation/ptl-oar-segmentation'"
      ]
     },
     "execution_count": 22,
     "metadata": {},
     "output_type": "execute_result"
    }
   ],
   "source": [
    "root_dir"
   ]
  },
  {
   "cell_type": "code",
   "execution_count": 23,
   "id": "a6bcbac3-9617-4cea-8203-3d2f6b3c570e",
   "metadata": {},
   "outputs": [],
   "source": [
    "# only need to supply args when training...\n",
    "# args = config.add_args(return_='args')\n",
    "# bash script or object...\n",
    "args = {\"weights_path\":\"/Users/joemarsilla/vector/wolnet_ensemble_weights/split1.ckpt\"}"
   ]
  },
  {
   "cell_type": "code",
   "execution_count": 37,
   "id": "b56cef59-01fc-4846-9e16-cfd1120dcfd0",
   "metadata": {},
   "outputs": [
    {
     "name": "stderr",
     "output_type": "stream",
     "text": [
      "/var/folders/4n/x4ks02rx2g9925jn6xb07jkw0000gn/T/ipykernel_2043/3565961056.py:34: UserWarning: Using presaved weights...\n",
      "  warnings.warn('Using presaved weights...')\n",
      "/var/folders/4n/x4ks02rx2g9925jn6xb07jkw0000gn/T/ipykernel_2043/3565961056.py:35: UserWarning: Loading save model from /Users/joemarsilla/vector/wolnet_ensemble_weights/split1.ckpt.\n",
      "  warnings.warn(f'Loading save model from {weights_path}.')\n",
      "Lightning automatically upgraded your loaded checkpoint from v1.4.9 to v1.9.0. To apply the upgrade to your files permanently, run `python -m lightning.pytorch.utilities.upgrade_checkpoint --file ../vector/wolnet_ensemble_weights/split1.ckpt`\n"
     ]
    },
    {
     "ename": "OSError",
     "evalue": "[Errno 30] Read-only file system: '/cluster'",
     "output_type": "error",
     "traceback": [
      "\u001b[0;31m---------------------------------------------------------------------------\u001b[0m",
      "\u001b[0;31mFileNotFoundError\u001b[0m                         Traceback (most recent call last)",
      "File \u001b[0;32m/usr/local/anaconda3/lib/python3.9/pathlib.py:1323\u001b[0m, in \u001b[0;36mPath.mkdir\u001b[0;34m(self, mode, parents, exist_ok)\u001b[0m\n\u001b[1;32m   1322\u001b[0m \u001b[38;5;28;01mtry\u001b[39;00m:\n\u001b[0;32m-> 1323\u001b[0m     \u001b[38;5;28;43mself\u001b[39;49m\u001b[38;5;241;43m.\u001b[39;49m\u001b[43m_accessor\u001b[49m\u001b[38;5;241;43m.\u001b[39;49m\u001b[43mmkdir\u001b[49m\u001b[43m(\u001b[49m\u001b[38;5;28;43mself\u001b[39;49m\u001b[43m,\u001b[49m\u001b[43m \u001b[49m\u001b[43mmode\u001b[49m\u001b[43m)\u001b[49m\n\u001b[1;32m   1324\u001b[0m \u001b[38;5;28;01mexcept\u001b[39;00m \u001b[38;5;167;01mFileNotFoundError\u001b[39;00m:\n",
      "\u001b[0;31mFileNotFoundError\u001b[0m: [Errno 2] No such file or directory: '/cluster/projects/radiomics/Temp/models/WOLNET_2020_08_28_152828'",
      "\nDuring handling of the above exception, another exception occurred:\n",
      "\u001b[0;31mFileNotFoundError\u001b[0m                         Traceback (most recent call last)",
      "File \u001b[0;32m/usr/local/anaconda3/lib/python3.9/pathlib.py:1323\u001b[0m, in \u001b[0;36mPath.mkdir\u001b[0;34m(self, mode, parents, exist_ok)\u001b[0m\n\u001b[1;32m   1322\u001b[0m \u001b[38;5;28;01mtry\u001b[39;00m:\n\u001b[0;32m-> 1323\u001b[0m     \u001b[38;5;28;43mself\u001b[39;49m\u001b[38;5;241;43m.\u001b[39;49m\u001b[43m_accessor\u001b[49m\u001b[38;5;241;43m.\u001b[39;49m\u001b[43mmkdir\u001b[49m\u001b[43m(\u001b[49m\u001b[38;5;28;43mself\u001b[39;49m\u001b[43m,\u001b[49m\u001b[43m \u001b[49m\u001b[43mmode\u001b[49m\u001b[43m)\u001b[49m\n\u001b[1;32m   1324\u001b[0m \u001b[38;5;28;01mexcept\u001b[39;00m \u001b[38;5;167;01mFileNotFoundError\u001b[39;00m:\n",
      "\u001b[0;31mFileNotFoundError\u001b[0m: [Errno 2] No such file or directory: '/cluster/projects/radiomics/Temp/models'",
      "\nDuring handling of the above exception, another exception occurred:\n",
      "\u001b[0;31mFileNotFoundError\u001b[0m                         Traceback (most recent call last)",
      "File \u001b[0;32m/usr/local/anaconda3/lib/python3.9/pathlib.py:1323\u001b[0m, in \u001b[0;36mPath.mkdir\u001b[0;34m(self, mode, parents, exist_ok)\u001b[0m\n\u001b[1;32m   1322\u001b[0m \u001b[38;5;28;01mtry\u001b[39;00m:\n\u001b[0;32m-> 1323\u001b[0m     \u001b[38;5;28;43mself\u001b[39;49m\u001b[38;5;241;43m.\u001b[39;49m\u001b[43m_accessor\u001b[49m\u001b[38;5;241;43m.\u001b[39;49m\u001b[43mmkdir\u001b[49m\u001b[43m(\u001b[49m\u001b[38;5;28;43mself\u001b[39;49m\u001b[43m,\u001b[49m\u001b[43m \u001b[49m\u001b[43mmode\u001b[49m\u001b[43m)\u001b[49m\n\u001b[1;32m   1324\u001b[0m \u001b[38;5;28;01mexcept\u001b[39;00m \u001b[38;5;167;01mFileNotFoundError\u001b[39;00m:\n",
      "\u001b[0;31mFileNotFoundError\u001b[0m: [Errno 2] No such file or directory: '/cluster/projects/radiomics/Temp'",
      "\nDuring handling of the above exception, another exception occurred:\n",
      "\u001b[0;31mFileNotFoundError\u001b[0m                         Traceback (most recent call last)",
      "File \u001b[0;32m/usr/local/anaconda3/lib/python3.9/pathlib.py:1323\u001b[0m, in \u001b[0;36mPath.mkdir\u001b[0;34m(self, mode, parents, exist_ok)\u001b[0m\n\u001b[1;32m   1322\u001b[0m \u001b[38;5;28;01mtry\u001b[39;00m:\n\u001b[0;32m-> 1323\u001b[0m     \u001b[38;5;28;43mself\u001b[39;49m\u001b[38;5;241;43m.\u001b[39;49m\u001b[43m_accessor\u001b[49m\u001b[38;5;241;43m.\u001b[39;49m\u001b[43mmkdir\u001b[49m\u001b[43m(\u001b[49m\u001b[38;5;28;43mself\u001b[39;49m\u001b[43m,\u001b[49m\u001b[43m \u001b[49m\u001b[43mmode\u001b[49m\u001b[43m)\u001b[49m\n\u001b[1;32m   1324\u001b[0m \u001b[38;5;28;01mexcept\u001b[39;00m \u001b[38;5;167;01mFileNotFoundError\u001b[39;00m:\n",
      "\u001b[0;31mFileNotFoundError\u001b[0m: [Errno 2] No such file or directory: '/cluster/projects/radiomics'",
      "\nDuring handling of the above exception, another exception occurred:\n",
      "\u001b[0;31mFileNotFoundError\u001b[0m                         Traceback (most recent call last)",
      "File \u001b[0;32m/usr/local/anaconda3/lib/python3.9/pathlib.py:1323\u001b[0m, in \u001b[0;36mPath.mkdir\u001b[0;34m(self, mode, parents, exist_ok)\u001b[0m\n\u001b[1;32m   1322\u001b[0m \u001b[38;5;28;01mtry\u001b[39;00m:\n\u001b[0;32m-> 1323\u001b[0m     \u001b[38;5;28;43mself\u001b[39;49m\u001b[38;5;241;43m.\u001b[39;49m\u001b[43m_accessor\u001b[49m\u001b[38;5;241;43m.\u001b[39;49m\u001b[43mmkdir\u001b[49m\u001b[43m(\u001b[49m\u001b[38;5;28;43mself\u001b[39;49m\u001b[43m,\u001b[49m\u001b[43m \u001b[49m\u001b[43mmode\u001b[49m\u001b[43m)\u001b[49m\n\u001b[1;32m   1324\u001b[0m \u001b[38;5;28;01mexcept\u001b[39;00m \u001b[38;5;167;01mFileNotFoundError\u001b[39;00m:\n",
      "\u001b[0;31mFileNotFoundError\u001b[0m: [Errno 2] No such file or directory: '/cluster/projects'",
      "\nDuring handling of the above exception, another exception occurred:\n",
      "\u001b[0;31mOSError\u001b[0m                                   Traceback (most recent call last)",
      "Cell \u001b[0;32mIn [37], line 1\u001b[0m\n\u001b[0;32m----> 1\u001b[0m \u001b[43mmain\u001b[49m\u001b[43m(\u001b[49m\u001b[43margs\u001b[49m\u001b[43m[\u001b[49m\u001b[38;5;124;43m\"\u001b[39;49m\u001b[38;5;124;43mweights_path\u001b[39;49m\u001b[38;5;124;43m\"\u001b[39;49m\u001b[43m]\u001b[49m\u001b[43m)\u001b[49m\n",
      "Cell \u001b[0;32mIn [36], line 36\u001b[0m, in \u001b[0;36mmain\u001b[0;34m(weights_path)\u001b[0m\n\u001b[1;32m     34\u001b[0m warnings\u001b[38;5;241m.\u001b[39mwarn(\u001b[38;5;124m'\u001b[39m\u001b[38;5;124mUsing presaved weights...\u001b[39m\u001b[38;5;124m'\u001b[39m)\n\u001b[1;32m     35\u001b[0m warnings\u001b[38;5;241m.\u001b[39mwarn(\u001b[38;5;124mf\u001b[39m\u001b[38;5;124m'\u001b[39m\u001b[38;5;124mLoading save model from \u001b[39m\u001b[38;5;132;01m{\u001b[39;00mweights_path\u001b[38;5;132;01m}\u001b[39;00m\u001b[38;5;124m.\u001b[39m\u001b[38;5;124m'\u001b[39m)\n\u001b[0;32m---> 36\u001b[0m model \u001b[38;5;241m=\u001b[39m \u001b[43mSegmentationModule\u001b[49m\u001b[38;5;241;43m.\u001b[39;49m\u001b[43mload_from_checkpoint\u001b[49m\u001b[43m(\u001b[49m\u001b[43mcheckpoint_path\u001b[49m\u001b[38;5;241;43m=\u001b[39;49m\u001b[43mweights_path\u001b[49m\u001b[43m)\u001b[49m\n\u001b[1;32m     37\u001b[0m \u001b[38;5;66;03m#, strict=False) #,\u001b[39;00m\n\u001b[1;32m     38\u001b[0m trainer \u001b[38;5;241m=\u001b[39m Trainer(cpus\u001b[38;5;241m=\u001b[39m\u001b[38;5;241m8\u001b[39m, strategy\u001b[38;5;241m=\u001b[39m\u001b[38;5;124m'\u001b[39m\u001b[38;5;124mddp\u001b[39m\u001b[38;5;124m'\u001b[39m)\n",
      "File \u001b[0;32m/usr/local/anaconda3/lib/python3.9/site-packages/lightning/pytorch/core/saving.py:139\u001b[0m, in \u001b[0;36mModelIO.load_from_checkpoint\u001b[0;34m(cls, checkpoint_path, map_location, hparams_file, strict, **kwargs)\u001b[0m\n\u001b[1;32m     59\u001b[0m \u001b[38;5;129m@classmethod\u001b[39m\n\u001b[1;32m     60\u001b[0m \u001b[38;5;28;01mdef\u001b[39;00m \u001b[38;5;21mload_from_checkpoint\u001b[39m(\n\u001b[1;32m     61\u001b[0m     \u001b[38;5;28mcls\u001b[39m,\n\u001b[0;32m   (...)\u001b[0m\n\u001b[1;32m     66\u001b[0m     \u001b[38;5;241m*\u001b[39m\u001b[38;5;241m*\u001b[39mkwargs: Any,\n\u001b[1;32m     67\u001b[0m ) \u001b[38;5;241m-\u001b[39m\u001b[38;5;241m>\u001b[39m Self:  \u001b[38;5;66;03m# type: ignore[valid-type]\u001b[39;00m\n\u001b[1;32m     68\u001b[0m     \u001b[38;5;124mr\u001b[39m\u001b[38;5;124;03m\"\"\"\u001b[39;00m\n\u001b[1;32m     69\u001b[0m \u001b[38;5;124;03m    Primary way of loading a model from a checkpoint. When Lightning saves a checkpoint\u001b[39;00m\n\u001b[1;32m     70\u001b[0m \u001b[38;5;124;03m    it stores the arguments passed to ``__init__``  in the checkpoint under ``\"hyper_parameters\"``.\u001b[39;00m\n\u001b[0;32m   (...)\u001b[0m\n\u001b[1;32m    137\u001b[0m \u001b[38;5;124;03m        y_hat = pretrained_model(x)\u001b[39;00m\n\u001b[1;32m    138\u001b[0m \u001b[38;5;124;03m    \"\"\"\u001b[39;00m\n\u001b[0;32m--> 139\u001b[0m     \u001b[38;5;28;01mreturn\u001b[39;00m \u001b[43m_load_from_checkpoint\u001b[49m\u001b[43m(\u001b[49m\n\u001b[1;32m    140\u001b[0m \u001b[43m        \u001b[49m\u001b[38;5;28;43mcls\u001b[39;49m\u001b[43m,\u001b[49m\n\u001b[1;32m    141\u001b[0m \u001b[43m        \u001b[49m\u001b[43mcheckpoint_path\u001b[49m\u001b[43m,\u001b[49m\n\u001b[1;32m    142\u001b[0m \u001b[43m        \u001b[49m\u001b[43mmap_location\u001b[49m\u001b[43m,\u001b[49m\n\u001b[1;32m    143\u001b[0m \u001b[43m        \u001b[49m\u001b[43mhparams_file\u001b[49m\u001b[43m,\u001b[49m\n\u001b[1;32m    144\u001b[0m \u001b[43m        \u001b[49m\u001b[43mstrict\u001b[49m\u001b[43m,\u001b[49m\n\u001b[1;32m    145\u001b[0m \u001b[43m        \u001b[49m\u001b[38;5;241;43m*\u001b[39;49m\u001b[38;5;241;43m*\u001b[39;49m\u001b[43mkwargs\u001b[49m\u001b[43m,\u001b[49m\n\u001b[1;32m    146\u001b[0m \u001b[43m    \u001b[49m\u001b[43m)\u001b[49m\n",
      "File \u001b[0;32m/usr/local/anaconda3/lib/python3.9/site-packages/lightning/pytorch/core/saving.py:188\u001b[0m, in \u001b[0;36m_load_from_checkpoint\u001b[0;34m(cls, checkpoint_path, map_location, hparams_file, strict, **kwargs)\u001b[0m\n\u001b[1;32m    186\u001b[0m     \u001b[38;5;28;01mreturn\u001b[39;00m _load_state(\u001b[38;5;28mcls\u001b[39m, checkpoint, \u001b[38;5;241m*\u001b[39m\u001b[38;5;241m*\u001b[39mkwargs)\n\u001b[1;32m    187\u001b[0m \u001b[38;5;28;01mif\u001b[39;00m \u001b[38;5;28missubclass\u001b[39m(\u001b[38;5;28mcls\u001b[39m, pl\u001b[38;5;241m.\u001b[39mLightningModule):\n\u001b[0;32m--> 188\u001b[0m     \u001b[38;5;28;01mreturn\u001b[39;00m \u001b[43m_load_state\u001b[49m\u001b[43m(\u001b[49m\u001b[38;5;28;43mcls\u001b[39;49m\u001b[43m,\u001b[49m\u001b[43m \u001b[49m\u001b[43mcheckpoint\u001b[49m\u001b[43m,\u001b[49m\u001b[43m \u001b[49m\u001b[43mstrict\u001b[49m\u001b[38;5;241;43m=\u001b[39;49m\u001b[43mstrict\u001b[49m\u001b[43m,\u001b[49m\u001b[43m \u001b[49m\u001b[38;5;241;43m*\u001b[39;49m\u001b[38;5;241;43m*\u001b[39;49m\u001b[43mkwargs\u001b[49m\u001b[43m)\u001b[49m\n\u001b[1;32m    189\u001b[0m \u001b[38;5;28;01mraise\u001b[39;00m \u001b[38;5;167;01mNotImplementedError\u001b[39;00m(\u001b[38;5;124mf\u001b[39m\u001b[38;5;124m\"\u001b[39m\u001b[38;5;124mUnsupported \u001b[39m\u001b[38;5;132;01m{\u001b[39;00m\u001b[38;5;28mcls\u001b[39m\u001b[38;5;132;01m}\u001b[39;00m\u001b[38;5;124m\"\u001b[39m)\n",
      "File \u001b[0;32m/usr/local/anaconda3/lib/python3.9/site-packages/lightning/pytorch/core/saving.py:234\u001b[0m, in \u001b[0;36m_load_state\u001b[0;34m(cls, checkpoint, strict, **cls_kwargs_new)\u001b[0m\n\u001b[1;32m    230\u001b[0m \u001b[38;5;28;01mif\u001b[39;00m \u001b[38;5;129;01mnot\u001b[39;00m cls_spec\u001b[38;5;241m.\u001b[39mvarkw:\n\u001b[1;32m    231\u001b[0m     \u001b[38;5;66;03m# filter kwargs according to class init unless it allows any argument via kwargs\u001b[39;00m\n\u001b[1;32m    232\u001b[0m     _cls_kwargs \u001b[38;5;241m=\u001b[39m {k: v \u001b[38;5;28;01mfor\u001b[39;00m k, v \u001b[38;5;129;01min\u001b[39;00m _cls_kwargs\u001b[38;5;241m.\u001b[39mitems() \u001b[38;5;28;01mif\u001b[39;00m k \u001b[38;5;129;01min\u001b[39;00m cls_init_args_name}\n\u001b[0;32m--> 234\u001b[0m obj \u001b[38;5;241m=\u001b[39m \u001b[38;5;28;43mcls\u001b[39;49m\u001b[43m(\u001b[49m\u001b[38;5;241;43m*\u001b[39;49m\u001b[38;5;241;43m*\u001b[39;49m\u001b[43m_cls_kwargs\u001b[49m\u001b[43m)\u001b[49m\n\u001b[1;32m    236\u001b[0m \u001b[38;5;28;01mif\u001b[39;00m \u001b[38;5;28misinstance\u001b[39m(obj, pl\u001b[38;5;241m.\u001b[39mLightningModule):\n\u001b[1;32m    237\u001b[0m     \u001b[38;5;66;03m# give model a chance to load something\u001b[39;00m\n\u001b[1;32m    238\u001b[0m     obj\u001b[38;5;241m.\u001b[39mon_load_checkpoint(checkpoint)\n",
      "File \u001b[0;32m~/ptl-oar-segmentation/utils/modules_vector.py:46\u001b[0m, in \u001b[0;36mSegmentationModule.__init__\u001b[0;34m(self, hparams)\u001b[0m\n\u001b[1;32m     43\u001b[0m \u001b[38;5;66;03m# init superclass\u001b[39;00m\n\u001b[1;32m     44\u001b[0m \u001b[38;5;66;03m# super(SegmentationModule, self).__init__()\u001b[39;00m\n\u001b[1;32m     45\u001b[0m \u001b[38;5;28mself\u001b[39m\u001b[38;5;241m.\u001b[39msave_hyperparameters(hparams) \u001b[38;5;66;03m# 1.3+ self.hparams\u001b[39;00m\n\u001b[0;32m---> 46\u001b[0m \u001b[38;5;28;43mself\u001b[39;49m\u001b[38;5;241;43m.\u001b[39;49m\u001b[43mget_model_root_dir\u001b[49m\u001b[43m(\u001b[49m\u001b[43m)\u001b[49m\n\u001b[1;32m     47\u001b[0m \u001b[38;5;28mself\u001b[39m\u001b[38;5;241m.\u001b[39m__build_model()\n\u001b[1;32m     48\u001b[0m \u001b[38;5;28mself\u001b[39m\u001b[38;5;241m.\u001b[39m__getCutomOrder()\n",
      "File \u001b[0;32m~/ptl-oar-segmentation/utils/modules_vector.py:688\u001b[0m, in \u001b[0;36mSegmentationModule.get_model_root_dir\u001b[0;34m(self)\u001b[0m\n\u001b[1;32m    686\u001b[0m \u001b[38;5;28mself\u001b[39m\u001b[38;5;241m.\u001b[39mhparams\u001b[38;5;241m.\u001b[39mroot \u001b[38;5;241m=\u001b[39m \u001b[38;5;28mstr\u001b[39m(\u001b[38;5;28mself\u001b[39m\u001b[38;5;241m.\u001b[39mmodel_path \u001b[38;5;241m+\u001b[39m \u001b[38;5;124m\"\u001b[39m\u001b[38;5;124m/\u001b[39m\u001b[38;5;124m\"\u001b[39m \u001b[38;5;241m+\u001b[39m \u001b[38;5;28mself\u001b[39m\u001b[38;5;241m.\u001b[39mmodel_name)\n\u001b[1;32m    687\u001b[0m \u001b[38;5;28mself\u001b[39m\u001b[38;5;241m.\u001b[39mroot \u001b[38;5;241m=\u001b[39m Path(\u001b[38;5;28mself\u001b[39m\u001b[38;5;241m.\u001b[39mhparams\u001b[38;5;241m.\u001b[39mroot)\n\u001b[0;32m--> 688\u001b[0m \u001b[38;5;28;43mself\u001b[39;49m\u001b[38;5;241;43m.\u001b[39;49m\u001b[43mroot\u001b[49m\u001b[38;5;241;43m.\u001b[39;49m\u001b[43mmkdir\u001b[49m\u001b[43m(\u001b[49m\u001b[43mexist_ok\u001b[49m\u001b[38;5;241;43m=\u001b[39;49m\u001b[38;5;28;43;01mTrue\u001b[39;49;00m\u001b[43m,\u001b[49m\u001b[43m \u001b[49m\u001b[43mparents\u001b[49m\u001b[38;5;241;43m=\u001b[39;49m\u001b[38;5;28;43;01mTrue\u001b[39;49;00m\u001b[43m)\u001b[49m\n",
      "File \u001b[0;32m/usr/local/anaconda3/lib/python3.9/pathlib.py:1327\u001b[0m, in \u001b[0;36mPath.mkdir\u001b[0;34m(self, mode, parents, exist_ok)\u001b[0m\n\u001b[1;32m   1325\u001b[0m     \u001b[38;5;28;01mif\u001b[39;00m \u001b[38;5;129;01mnot\u001b[39;00m parents \u001b[38;5;129;01mor\u001b[39;00m \u001b[38;5;28mself\u001b[39m\u001b[38;5;241m.\u001b[39mparent \u001b[38;5;241m==\u001b[39m \u001b[38;5;28mself\u001b[39m:\n\u001b[1;32m   1326\u001b[0m         \u001b[38;5;28;01mraise\u001b[39;00m\n\u001b[0;32m-> 1327\u001b[0m     \u001b[38;5;28;43mself\u001b[39;49m\u001b[38;5;241;43m.\u001b[39;49m\u001b[43mparent\u001b[49m\u001b[38;5;241;43m.\u001b[39;49m\u001b[43mmkdir\u001b[49m\u001b[43m(\u001b[49m\u001b[43mparents\u001b[49m\u001b[38;5;241;43m=\u001b[39;49m\u001b[38;5;28;43;01mTrue\u001b[39;49;00m\u001b[43m,\u001b[49m\u001b[43m \u001b[49m\u001b[43mexist_ok\u001b[49m\u001b[38;5;241;43m=\u001b[39;49m\u001b[38;5;28;43;01mTrue\u001b[39;49;00m\u001b[43m)\u001b[49m\n\u001b[1;32m   1328\u001b[0m     \u001b[38;5;28mself\u001b[39m\u001b[38;5;241m.\u001b[39mmkdir(mode, parents\u001b[38;5;241m=\u001b[39m\u001b[38;5;28;01mFalse\u001b[39;00m, exist_ok\u001b[38;5;241m=\u001b[39mexist_ok)\n\u001b[1;32m   1329\u001b[0m \u001b[38;5;28;01mexcept\u001b[39;00m \u001b[38;5;167;01mOSError\u001b[39;00m:\n\u001b[1;32m   1330\u001b[0m     \u001b[38;5;66;03m# Cannot rely on checking for EEXIST, since the operating system\u001b[39;00m\n\u001b[1;32m   1331\u001b[0m     \u001b[38;5;66;03m# could give priority to other errors like EACCES or EROFS\u001b[39;00m\n",
      "File \u001b[0;32m/usr/local/anaconda3/lib/python3.9/pathlib.py:1327\u001b[0m, in \u001b[0;36mPath.mkdir\u001b[0;34m(self, mode, parents, exist_ok)\u001b[0m\n\u001b[1;32m   1325\u001b[0m     \u001b[38;5;28;01mif\u001b[39;00m \u001b[38;5;129;01mnot\u001b[39;00m parents \u001b[38;5;129;01mor\u001b[39;00m \u001b[38;5;28mself\u001b[39m\u001b[38;5;241m.\u001b[39mparent \u001b[38;5;241m==\u001b[39m \u001b[38;5;28mself\u001b[39m:\n\u001b[1;32m   1326\u001b[0m         \u001b[38;5;28;01mraise\u001b[39;00m\n\u001b[0;32m-> 1327\u001b[0m     \u001b[38;5;28;43mself\u001b[39;49m\u001b[38;5;241;43m.\u001b[39;49m\u001b[43mparent\u001b[49m\u001b[38;5;241;43m.\u001b[39;49m\u001b[43mmkdir\u001b[49m\u001b[43m(\u001b[49m\u001b[43mparents\u001b[49m\u001b[38;5;241;43m=\u001b[39;49m\u001b[38;5;28;43;01mTrue\u001b[39;49;00m\u001b[43m,\u001b[49m\u001b[43m \u001b[49m\u001b[43mexist_ok\u001b[49m\u001b[38;5;241;43m=\u001b[39;49m\u001b[38;5;28;43;01mTrue\u001b[39;49;00m\u001b[43m)\u001b[49m\n\u001b[1;32m   1328\u001b[0m     \u001b[38;5;28mself\u001b[39m\u001b[38;5;241m.\u001b[39mmkdir(mode, parents\u001b[38;5;241m=\u001b[39m\u001b[38;5;28;01mFalse\u001b[39;00m, exist_ok\u001b[38;5;241m=\u001b[39mexist_ok)\n\u001b[1;32m   1329\u001b[0m \u001b[38;5;28;01mexcept\u001b[39;00m \u001b[38;5;167;01mOSError\u001b[39;00m:\n\u001b[1;32m   1330\u001b[0m     \u001b[38;5;66;03m# Cannot rely on checking for EEXIST, since the operating system\u001b[39;00m\n\u001b[1;32m   1331\u001b[0m     \u001b[38;5;66;03m# could give priority to other errors like EACCES or EROFS\u001b[39;00m\n",
      "    \u001b[0;31m[... skipping similar frames: Path.mkdir at line 1327 (2 times)]\u001b[0m\n",
      "File \u001b[0;32m/usr/local/anaconda3/lib/python3.9/pathlib.py:1327\u001b[0m, in \u001b[0;36mPath.mkdir\u001b[0;34m(self, mode, parents, exist_ok)\u001b[0m\n\u001b[1;32m   1325\u001b[0m     \u001b[38;5;28;01mif\u001b[39;00m \u001b[38;5;129;01mnot\u001b[39;00m parents \u001b[38;5;129;01mor\u001b[39;00m \u001b[38;5;28mself\u001b[39m\u001b[38;5;241m.\u001b[39mparent \u001b[38;5;241m==\u001b[39m \u001b[38;5;28mself\u001b[39m:\n\u001b[1;32m   1326\u001b[0m         \u001b[38;5;28;01mraise\u001b[39;00m\n\u001b[0;32m-> 1327\u001b[0m     \u001b[38;5;28;43mself\u001b[39;49m\u001b[38;5;241;43m.\u001b[39;49m\u001b[43mparent\u001b[49m\u001b[38;5;241;43m.\u001b[39;49m\u001b[43mmkdir\u001b[49m\u001b[43m(\u001b[49m\u001b[43mparents\u001b[49m\u001b[38;5;241;43m=\u001b[39;49m\u001b[38;5;28;43;01mTrue\u001b[39;49;00m\u001b[43m,\u001b[49m\u001b[43m \u001b[49m\u001b[43mexist_ok\u001b[49m\u001b[38;5;241;43m=\u001b[39;49m\u001b[38;5;28;43;01mTrue\u001b[39;49;00m\u001b[43m)\u001b[49m\n\u001b[1;32m   1328\u001b[0m     \u001b[38;5;28mself\u001b[39m\u001b[38;5;241m.\u001b[39mmkdir(mode, parents\u001b[38;5;241m=\u001b[39m\u001b[38;5;28;01mFalse\u001b[39;00m, exist_ok\u001b[38;5;241m=\u001b[39mexist_ok)\n\u001b[1;32m   1329\u001b[0m \u001b[38;5;28;01mexcept\u001b[39;00m \u001b[38;5;167;01mOSError\u001b[39;00m:\n\u001b[1;32m   1330\u001b[0m     \u001b[38;5;66;03m# Cannot rely on checking for EEXIST, since the operating system\u001b[39;00m\n\u001b[1;32m   1331\u001b[0m     \u001b[38;5;66;03m# could give priority to other errors like EACCES or EROFS\u001b[39;00m\n",
      "File \u001b[0;32m/usr/local/anaconda3/lib/python3.9/pathlib.py:1323\u001b[0m, in \u001b[0;36mPath.mkdir\u001b[0;34m(self, mode, parents, exist_ok)\u001b[0m\n\u001b[1;32m   1319\u001b[0m \u001b[38;5;124;03m\"\"\"\u001b[39;00m\n\u001b[1;32m   1320\u001b[0m \u001b[38;5;124;03mCreate a new directory at this given path.\u001b[39;00m\n\u001b[1;32m   1321\u001b[0m \u001b[38;5;124;03m\"\"\"\u001b[39;00m\n\u001b[1;32m   1322\u001b[0m \u001b[38;5;28;01mtry\u001b[39;00m:\n\u001b[0;32m-> 1323\u001b[0m     \u001b[38;5;28;43mself\u001b[39;49m\u001b[38;5;241;43m.\u001b[39;49m\u001b[43m_accessor\u001b[49m\u001b[38;5;241;43m.\u001b[39;49m\u001b[43mmkdir\u001b[49m\u001b[43m(\u001b[49m\u001b[38;5;28;43mself\u001b[39;49m\u001b[43m,\u001b[49m\u001b[43m \u001b[49m\u001b[43mmode\u001b[49m\u001b[43m)\u001b[49m\n\u001b[1;32m   1324\u001b[0m \u001b[38;5;28;01mexcept\u001b[39;00m \u001b[38;5;167;01mFileNotFoundError\u001b[39;00m:\n\u001b[1;32m   1325\u001b[0m     \u001b[38;5;28;01mif\u001b[39;00m \u001b[38;5;129;01mnot\u001b[39;00m parents \u001b[38;5;129;01mor\u001b[39;00m \u001b[38;5;28mself\u001b[39m\u001b[38;5;241m.\u001b[39mparent \u001b[38;5;241m==\u001b[39m \u001b[38;5;28mself\u001b[39m:\n",
      "\u001b[0;31mOSError\u001b[0m: [Errno 30] Read-only file system: '/cluster'"
     ]
    }
   ],
   "source": [
    "main(args[\"weights_path\"])"
   ]
  },
  {
   "cell_type": "code",
   "execution_count": 34,
   "id": "d6dd9773-c795-4bb6-93db-fc6a08935c50",
   "metadata": {},
   "outputs": [
    {
     "ename": "SyntaxError",
     "evalue": "invalid syntax (326153411.py, line 1)",
     "output_type": "error",
     "traceback": [
      "\u001b[0;36m  Cell \u001b[0;32mIn [34], line 1\u001b[0;36m\u001b[0m\n\u001b[0;31m    python -m lightning.pytorch.utilities.upgrade_checkpoint -f \"../vector/wolnet_ensemble_weights/split1.ckpt\"\u001b[0m\n\u001b[0m              ^\u001b[0m\n\u001b[0;31mSyntaxError\u001b[0m\u001b[0;31m:\u001b[0m invalid syntax\n"
     ]
    }
   ],
   "source": [
    "python -m lightning.pytorch.utilities.upgrade_checkpoint -f \"../vector/wolnet_ensemble_weights/split1.ckpt\""
   ]
  },
  {
   "cell_type": "code",
   "execution_count": null,
   "id": "178afcb9-f6bf-4b71-b3a6-b60c0a41d347",
   "metadata": {},
   "outputs": [],
   "source": []
  }
 ],
 "metadata": {
  "kernelspec": {
   "display_name": "Python 3 (ipykernel)",
   "language": "python",
   "name": "python3"
  },
  "language_info": {
   "codemirror_mode": {
    "name": "ipython",
    "version": 3
   },
   "file_extension": ".py",
   "mimetype": "text/x-python",
   "name": "python",
   "nbconvert_exporter": "python",
   "pygments_lexer": "ipython3",
   "version": "3.10.9"
  }
 },
 "nbformat": 4,
 "nbformat_minor": 5
}
