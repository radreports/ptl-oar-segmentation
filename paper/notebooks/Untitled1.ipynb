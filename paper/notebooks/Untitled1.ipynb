{
 "cells": [
  {
   "cell_type": "code",
   "execution_count": null,
   "id": "15f75a09-da24-4d5a-97ef-cfe08f1f5a50",
   "metadata": {},
   "outputs": [],
   "source": [
    "import pandas as pd\n",
    "import glob, os, numpy, nrrd\n",
    "\n",
    "\n",
    "\n",
    "# First set of functions recursively mine dataset in folder CT_IMAGE.nrrd structures > mask_name_0...mask_name_n\n",
    "# convert to nnunetv2 dataset structure...\n",
    "# for most of our cases we will be using the simple dataset structure defined in\n",
    "# https://github.com/MIC-DKFZ/nnUNet/blob/master/documentation/dataset_format.md\n",
    "# Here is another example of the second dataset of the MSD, which has only one input channel:\n",
    "# nnUNet_raw/Dataset002_Heart/\n",
    "# ├── dataset.json\n",
    "# ├── imagesTr\n",
    "# │   ├── la_003_0000.nii.gz\n",
    "# │   ├── la_004_0000.nii.gz\n",
    "# │   ├── ...\n",
    "# ├── imagesTs\n",
    "# │   ├── la_001_0000.nii.gz\n",
    "# │   ├── la_002_0000.nii.gz\n",
    "# │   ├── ...\n",
    "# └── labelsTr\n",
    "#     ├── la_003.nii.gz\n",
    "#     ├── la_004.nii.gz\n",
    "#     ├── ...\n",
    "\n",
    "# The dataset.json contains metadata that nnU-Net needs for training. We have greatly reduced the number of required fields since version 1!\n",
    "# Here is what the dataset.json should look like at the example of the Dataset005_Prostate from the MSD:\n",
    "# { \n",
    "#  \"channel_names\": {  # formerly modalities\n",
    "#    \"0\": \"T2\", \n",
    "#    \"1\": \"ADC\"\n",
    "#  }, \n",
    "#  \"labels\": {  # THIS IS DIFFERENT NOW!\n",
    "#    \"background\": 0,\n",
    "#    \"PZ\": 1,\n",
    "#    \"TZ\": 2\n",
    "#  }, \n",
    "#  \"numTraining\": 32, \n",
    "#  \"file_ending\": \".nii.gz\"\n",
    "#  \"overwrite_image_reader_writer\": \"SimpleITKIO\"  # optional! If not provided nnU-Net will automatically determine the ReaderWriter\n",
    "#  }"
   ]
  }
 ],
 "metadata": {
  "kernelspec": {
   "display_name": "Python 3 (ipykernel)",
   "language": "python",
   "name": "python3"
  },
  "language_info": {
   "codemirror_mode": {
    "name": "ipython",
    "version": 3
   },
   "file_extension": ".py",
   "mimetype": "text/x-python",
   "name": "python",
   "nbconvert_exporter": "python",
   "pygments_lexer": "ipython3",
   "version": "3.10.9"
  }
 },
 "nbformat": 4,
 "nbformat_minor": 5
}
